{
  "nbformat": 4,
  "nbformat_minor": 0,
  "metadata": {
    "colab": {
      "provenance": [],
      "toc_visible": true,
      "gpuType": "T4"
    },
    "kernelspec": {
      "name": "python3",
      "display_name": "Python 3"
    },
    "language_info": {
      "name": "python"
    },
    "accelerator": "GPU"
  },
  "cells": [
    {
      "cell_type": "markdown",
      "source": [
        "## MNIST 손글씨 - CNN v1\n",
        "- 2 x Conv2D layers\n",
        "- 1FCN layer\n",
        "- Outputlayer"
      ],
      "metadata": {
        "id": "etEfjuxEfYlo"
      }
    },
    {
      "cell_type": "code",
      "execution_count": 1,
      "metadata": {
        "id": "rbnJUQ4cfTwy"
      },
      "outputs": [],
      "source": [
        "import numpy as np\n",
        "import matplotlib.pyplot as plt\n",
        "import tensorflow as tf\n",
        "seed = 2023\n",
        "np.random.seed(seed)\n",
        "tf.random.set_seed(seed)"
      ]
    },
    {
      "cell_type": "code",
      "source": [
        "tf.__version__"
      ],
      "metadata": {
        "colab": {
          "base_uri": "https://localhost:8080/",
          "height": 35
        },
        "id": "no4BOFU0f5SK",
        "outputId": "6743c958-cd4b-4eba-a25c-faf02ddf90be"
      },
      "execution_count": 2,
      "outputs": [
        {
          "output_type": "execute_result",
          "data": {
            "text/plain": [
              "'2.14.0'"
            ],
            "application/vnd.google.colaboratory.intrinsic+json": {
              "type": "string"
            }
          },
          "metadata": {},
          "execution_count": 2
        }
      ]
    },
    {
      "cell_type": "markdown",
      "source": [
        "- 데이터 전처리"
      ],
      "metadata": {
        "id": "oIETOVXTf9tn"
      }
    },
    {
      "cell_type": "code",
      "source": [
        "from tensorflow.keras.datasets import mnist\n",
        "(X_train, y_train), (X_test, y_test) = mnist.load_data()\n",
        "X_train.shape, y_train.shape, X_test.shape, y_test.shape"
      ],
      "metadata": {
        "colab": {
          "base_uri": "https://localhost:8080/"
        },
        "id": "-7Wk6BzRf8gH",
        "outputId": "2c63b4f8-de3a-48c2-9ea7-71531bd8389f"
      },
      "execution_count": 3,
      "outputs": [
        {
          "output_type": "stream",
          "name": "stdout",
          "text": [
            "Downloading data from https://storage.googleapis.com/tensorflow/tf-keras-datasets/mnist.npz\n",
            "11490434/11490434 [==============================] - 0s 0us/step\n"
          ]
        },
        {
          "output_type": "execute_result",
          "data": {
            "text/plain": [
              "((60000, 28, 28), (60000,), (10000, 28, 28), (10000,))"
            ]
          },
          "metadata": {},
          "execution_count": 3
        }
      ]
    },
    {
      "cell_type": "code",
      "source": [
        "# X data의 차원 변경 및 정규화(0~1)\n",
        "X_train = X_train.reshape(-1, 28, 28, 1) / 255.\n",
        "X_test = X_test.reshape(-1, 28, 28, 1) / 255."
      ],
      "metadata": {
        "id": "I9yvnAhAgXpg"
      },
      "execution_count": 4,
      "outputs": []
    },
    {
      "cell_type": "code",
      "source": [
        "# y_data의 one-hot-encoding\n",
        "from tensorflow.keras.utils import to_categorical\n",
        "Y_train = to_categorical(y_train)\n",
        "Y_test = to_categorical(y_test)\n",
        "Y_train.shape, Y_test.shape"
      ],
      "metadata": {
        "colab": {
          "base_uri": "https://localhost:8080/"
        },
        "id": "MbA8xwKvgsEv",
        "outputId": "8facb85a-266b-4ba7-f69b-6e9456dd5851"
      },
      "execution_count": 5,
      "outputs": [
        {
          "output_type": "execute_result",
          "data": {
            "text/plain": [
              "((60000, 10), (10000, 10))"
            ]
          },
          "metadata": {},
          "execution_count": 5
        }
      ]
    },
    {
      "cell_type": "markdown",
      "source": [
        "- 모델 정의/설정/학습/평가"
      ],
      "metadata": {
        "id": "p97LYJNvhCwH"
      }
    },
    {
      "cell_type": "code",
      "source": [
        "from tensorflow.keras.models import Sequential, load_model\n",
        "from tensorflow.keras.layers import Conv2D, Dense, Flatten\n",
        "from tensorflow.keras.callbacks import ModelCheckpoint, EarlyStopping"
      ],
      "metadata": {
        "id": "SknLvBUXhAwn"
      },
      "execution_count": 6,
      "outputs": []
    },
    {
      "cell_type": "code",
      "source": [
        "model = Sequential([\n",
        "    Conv2D(32, kernel_size=(3,3), input_shape=(28,28,1), activation='relu'),\n",
        "    Conv2D(64, (3,3), activation='relu'),\n",
        "    Flatten(),\n",
        "    Dense(512, activation='relu'),\n",
        "    Dense(10, activation='softmax')\n",
        "])\n",
        "model.summary()"
      ],
      "metadata": {
        "colab": {
          "base_uri": "https://localhost:8080/"
        },
        "id": "Es5qp3fChvRS",
        "outputId": "d790c302-55c9-4dcd-b28e-f22b356d6fcb"
      },
      "execution_count": 7,
      "outputs": [
        {
          "output_type": "stream",
          "name": "stdout",
          "text": [
            "Model: \"sequential\"\n",
            "_________________________________________________________________\n",
            " Layer (type)                Output Shape              Param #   \n",
            "=================================================================\n",
            " conv2d (Conv2D)             (None, 26, 26, 32)        320       \n",
            "                                                                 \n",
            " conv2d_1 (Conv2D)           (None, 24, 24, 64)        18496     \n",
            "                                                                 \n",
            " flatten (Flatten)           (None, 36864)             0         \n",
            "                                                                 \n",
            " dense (Dense)               (None, 512)               18874880  \n",
            "                                                                 \n",
            " dense_1 (Dense)             (None, 10)                5130      \n",
            "                                                                 \n",
            "=================================================================\n",
            "Total params: 18898826 (72.09 MB)\n",
            "Trainable params: 18898826 (72.09 MB)\n",
            "Non-trainable params: 0 (0.00 Byte)\n",
            "_________________________________________________________________\n"
          ]
        }
      ]
    },
    {
      "cell_type": "code",
      "source": [
        "model.compile('adam', 'categorical_crossentropy', metrics=['accuracy'])"
      ],
      "metadata": {
        "id": "cSOsjkBWifIB"
      },
      "execution_count": 8,
      "outputs": []
    },
    {
      "cell_type": "code",
      "source": [
        "!mkdir models\n",
        "!ls -l"
      ],
      "metadata": {
        "colab": {
          "base_uri": "https://localhost:8080/"
        },
        "id": "pC56fvwJk4wC",
        "outputId": "bdfa487a-c10a-4e86-9256-37fcb4c6d77c"
      },
      "execution_count": 9,
      "outputs": [
        {
          "output_type": "stream",
          "name": "stdout",
          "text": [
            "total 8\n",
            "drwxr-xr-x 2 root root 4096 Nov  8 01:41 models\n",
            "drwxr-xr-x 1 root root 4096 Nov  6 14:20 sample_data\n"
          ]
        }
      ]
    },
    {
      "cell_type": "code",
      "source": [
        "model_path = 'models/best-mnist-v1.h5'\n",
        "mc = ModelCheckpoint(model_path, save_best_only=True, verbose=1)\n",
        "es = EarlyStopping(patience=10)"
      ],
      "metadata": {
        "id": "sXxLzdw_kG5w"
      },
      "execution_count": 10,
      "outputs": []
    },
    {
      "cell_type": "code",
      "source": [
        "hist = model.fit(\n",
        "    X_train, Y_train, validation_split=0.2, epochs=100, batch_size=256,\n",
        "    callbacks=[mc, es]\n",
        ")"
      ],
      "metadata": {
        "colab": {
          "base_uri": "https://localhost:8080/"
        },
        "id": "of-e7ZNgkLeW",
        "outputId": "0220b7e8-5786-45b8-afa5-d19994a2b912"
      },
      "execution_count": 12,
      "outputs": [
        {
          "output_type": "stream",
          "name": "stdout",
          "text": [
            "Epoch 1/100\n",
            "188/188 [==============================] - ETA: 0s - loss: 0.1726 - accuracy: 0.9463\n",
            "Epoch 1: val_loss improved from inf to 0.05739, saving model to models/best-mnist-v1.h5\n"
          ]
        },
        {
          "output_type": "stream",
          "name": "stderr",
          "text": [
            "/usr/local/lib/python3.10/dist-packages/keras/src/engine/training.py:3079: UserWarning: You are saving your model as an HDF5 file via `model.save()`. This file format is considered legacy. We recommend using instead the native Keras format, e.g. `model.save('my_model.keras')`.\n",
            "  saving_api.save_model(\n"
          ]
        },
        {
          "output_type": "stream",
          "name": "stdout",
          "text": [
            "\b\b\b\b\b\b\b\b\b\b\b\b\b\b\b\b\b\b\b\b\b\b\b\b\b\b\b\b\b\b\b\b\b\b\b\b\b\b\b\b\b\b\b\b\b\b\b\b\b\b\b\b\b\b\b\b\b\b\b\b\b\b\b\b\b\b\b\b\b\b\b\b\b\b\b\b\b\b\b\b\b\b\b\b\r188/188 [==============================] - 16s 28ms/step - loss: 0.1726 - accuracy: 0.9463 - val_loss: 0.0574 - val_accuracy: 0.9834\n",
            "Epoch 2/100\n",
            "187/188 [============================>.] - ETA: 0s - loss: 0.0400 - accuracy: 0.9880\n",
            "Epoch 2: val_loss improved from 0.05739 to 0.05197, saving model to models/best-mnist-v1.h5\n",
            "188/188 [==============================] - 5s 26ms/step - loss: 0.0400 - accuracy: 0.9880 - val_loss: 0.0520 - val_accuracy: 0.9852\n",
            "Epoch 3/100\n",
            "187/188 [============================>.] - ETA: 0s - loss: 0.0204 - accuracy: 0.9936\n",
            "Epoch 3: val_loss improved from 0.05197 to 0.05109, saving model to models/best-mnist-v1.h5\n",
            "188/188 [==============================] - 5s 25ms/step - loss: 0.0204 - accuracy: 0.9936 - val_loss: 0.0511 - val_accuracy: 0.9862\n",
            "Epoch 4/100\n",
            "187/188 [============================>.] - ETA: 0s - loss: 0.0123 - accuracy: 0.9958\n",
            "Epoch 4: val_loss improved from 0.05109 to 0.04741, saving model to models/best-mnist-v1.h5\n",
            "188/188 [==============================] - 5s 25ms/step - loss: 0.0123 - accuracy: 0.9958 - val_loss: 0.0474 - val_accuracy: 0.9866\n",
            "Epoch 5/100\n",
            "186/188 [============================>.] - ETA: 0s - loss: 0.0065 - accuracy: 0.9980\n",
            "Epoch 5: val_loss did not improve from 0.04741\n",
            "188/188 [==============================] - 4s 22ms/step - loss: 0.0065 - accuracy: 0.9980 - val_loss: 0.0574 - val_accuracy: 0.9871\n",
            "Epoch 6/100\n",
            "187/188 [============================>.] - ETA: 0s - loss: 0.0063 - accuracy: 0.9981\n",
            "Epoch 6: val_loss did not improve from 0.04741\n",
            "188/188 [==============================] - 4s 22ms/step - loss: 0.0063 - accuracy: 0.9981 - val_loss: 0.0538 - val_accuracy: 0.9872\n",
            "Epoch 7/100\n",
            "187/188 [============================>.] - ETA: 0s - loss: 0.0047 - accuracy: 0.9985\n",
            "Epoch 7: val_loss did not improve from 0.04741\n",
            "188/188 [==============================] - 4s 22ms/step - loss: 0.0048 - accuracy: 0.9985 - val_loss: 0.0613 - val_accuracy: 0.9872\n",
            "Epoch 8/100\n",
            "186/188 [============================>.] - ETA: 0s - loss: 0.0045 - accuracy: 0.9986\n",
            "Epoch 8: val_loss did not improve from 0.04741\n",
            "188/188 [==============================] - 4s 23ms/step - loss: 0.0045 - accuracy: 0.9986 - val_loss: 0.0553 - val_accuracy: 0.9887\n",
            "Epoch 9/100\n",
            "187/188 [============================>.] - ETA: 0s - loss: 0.0023 - accuracy: 0.9994\n",
            "Epoch 9: val_loss did not improve from 0.04741\n",
            "188/188 [==============================] - 4s 22ms/step - loss: 0.0023 - accuracy: 0.9994 - val_loss: 0.0723 - val_accuracy: 0.9872\n",
            "Epoch 10/100\n",
            "187/188 [============================>.] - ETA: 0s - loss: 0.0058 - accuracy: 0.9983\n",
            "Epoch 10: val_loss did not improve from 0.04741\n",
            "188/188 [==============================] - 4s 22ms/step - loss: 0.0058 - accuracy: 0.9983 - val_loss: 0.0607 - val_accuracy: 0.9843\n",
            "Epoch 11/100\n",
            "188/188 [==============================] - ETA: 0s - loss: 0.0034 - accuracy: 0.9990\n",
            "Epoch 11: val_loss did not improve from 0.04741\n",
            "188/188 [==============================] - 4s 23ms/step - loss: 0.0034 - accuracy: 0.9990 - val_loss: 0.0532 - val_accuracy: 0.9884\n",
            "Epoch 12/100\n",
            "187/188 [============================>.] - ETA: 0s - loss: 0.0014 - accuracy: 0.9995\n",
            "Epoch 12: val_loss did not improve from 0.04741\n",
            "188/188 [==============================] - 4s 22ms/step - loss: 0.0014 - accuracy: 0.9995 - val_loss: 0.0701 - val_accuracy: 0.9875\n",
            "Epoch 13/100\n",
            "187/188 [============================>.] - ETA: 0s - loss: 9.2978e-04 - accuracy: 0.9998\n",
            "Epoch 13: val_loss did not improve from 0.04741\n",
            "188/188 [==============================] - 4s 22ms/step - loss: 9.2778e-04 - accuracy: 0.9998 - val_loss: 0.0764 - val_accuracy: 0.9883\n",
            "Epoch 14/100\n",
            "187/188 [============================>.] - ETA: 0s - loss: 0.0039 - accuracy: 0.9989\n",
            "Epoch 14: val_loss did not improve from 0.04741\n",
            "188/188 [==============================] - 4s 23ms/step - loss: 0.0039 - accuracy: 0.9989 - val_loss: 0.0649 - val_accuracy: 0.9883\n"
          ]
        }
      ]
    },
    {
      "cell_type": "code",
      "source": [
        "best_model = load_model(model_path)\n",
        "best_model.evaluate(X_test, Y_test)"
      ],
      "metadata": {
        "colab": {
          "base_uri": "https://localhost:8080/"
        },
        "id": "aVF3Y9ZemASe",
        "outputId": "81f4ffda-9617-4b49-f485-7aa9fb429a68"
      },
      "execution_count": 13,
      "outputs": [
        {
          "output_type": "stream",
          "name": "stdout",
          "text": [
            "313/313 [==============================] - 1s 4ms/step - loss: 0.0412 - accuracy: 0.9883\n"
          ]
        },
        {
          "output_type": "execute_result",
          "data": {
            "text/plain": [
              "[0.0411691851913929, 0.9883000254631042]"
            ]
          },
          "metadata": {},
          "execution_count": 13
        }
      ]
    },
    {
      "cell_type": "code",
      "source": [
        "y_acc = hist.history['accuracy']\n",
        "y_vloss = hist.history['val_loss']\n",
        "xs = np.arange(1, len(y_acc)+1)"
      ],
      "metadata": {
        "id": "ew221w3pm82n"
      },
      "execution_count": 14,
      "outputs": []
    },
    {
      "cell_type": "code",
      "source": [
        "plt.figure(figsize=(12,6))\n",
        "plt.plot(xs, y_acc, label='train accuracy')\n",
        "plt.plot(xs, y_vloss, label='validation loss')\n",
        "plt.legend(), plt.grid(), plt.xlabel('epoch')\n",
        "plt.show()"
      ],
      "metadata": {
        "colab": {
          "base_uri": "https://localhost:8080/",
          "height": 476
        },
        "id": "kwFE1kJknKCV",
        "outputId": "524fef9e-b37f-46a3-f613-292eb54a9922"
      },
      "execution_count": 15,
      "outputs": [
        {
          "output_type": "display_data",
          "data": {
            "text/plain": [
              "<Figure size 1200x600 with 1 Axes>"
            ],
            "image/png": "[encoded data removed]"
          },
          "metadata": {}
        }
      ]
    },
    {
      "cell_type": "code",
      "source": [],
      "metadata": {
        "id": "83PHnzHgnMtE"
      },
      "execution_count": null,
      "outputs": []
    }
  ]
}