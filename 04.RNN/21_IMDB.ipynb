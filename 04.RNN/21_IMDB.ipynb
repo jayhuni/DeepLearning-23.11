{
  "nbformat": 4,
  "nbformat_minor": 0,
  "metadata": {
    "colab": {
      "provenance": [],
      "gpuType": "T4"
    },
    "kernelspec": {
      "name": "python3",
      "display_name": "Python 3"
    },
    "language_info": {
      "name": "python"
    },
    "accelerator": "GPU"
  },
  "cells": [
    {
      "cell_type": "markdown",
      "source": [
        "## IMDB 영화리뷰 감성분석"
      ],
      "metadata": {
        "id": "hZQSXyVYCrr9"
      }
    },
    {
      "cell_type": "code",
      "execution_count": 1,
      "metadata": {
        "id": "tgv1aNFbCnA9"
      },
      "outputs": [],
      "source": [
        "import numpy as np\n",
        "import tensorflow as tf\n",
        "seed = 2023\n",
        "np.random.seed(seed)\n",
        "tf.random.set_seed(seed)"
      ]
    },
    {
      "cell_type": "code",
      "source": [
        "from tensorflow.keras.datasets import imdb\n",
        "(X_train, y_train), ( X_test, y_test) = imdb.load_data()"
      ],
      "metadata": {
        "colab": {
          "base_uri": "https://localhost:8080/"
        },
        "id": "H6AQ5Ie-C6uM",
        "outputId": "3f2bdff4-cfcb-46ff-ac05-77237a28413c"
      },
      "execution_count": 2,
      "outputs": [
        {
          "output_type": "stream",
          "name": "stdout",
          "text": [
            "Downloading data from https://storage.googleapis.com/tensorflow/tf-keras-datasets/imdb.npz\n",
            "17464789/17464789 [==============================] - 1s 0us/step\n"
          ]
        }
      ]
    },
    {
      "cell_type": "code",
      "source": [
        "len(X_train), len(X_test)"
      ],
      "metadata": {
        "colab": {
          "base_uri": "https://localhost:8080/"
        },
        "id": "zdM7HY4MDFqp",
        "outputId": "8fb62aa0-4c55-4f4a-d9a1-284ed23ba6de"
      },
      "execution_count": 3,
      "outputs": [
        {
          "output_type": "execute_result",
          "data": {
            "text/plain": [
              "(25000, 25000)"
            ]
          },
          "metadata": {},
          "execution_count": 3
        }
      ]
    },
    {
      "cell_type": "code",
      "source": [
        "# 등장한 단어수\n",
        "len(imdb.get_word_index())"
      ],
      "metadata": {
        "colab": {
          "base_uri": "https://localhost:8080/"
        },
        "id": "Dv0XZ1lVDKSx",
        "outputId": "282e99cb-61af-498f-9231-4345f410fc3d"
      },
      "execution_count": 4,
      "outputs": [
        {
          "output_type": "stream",
          "name": "stdout",
          "text": [
            "Downloading data from https://storage.googleapis.com/tensorflow/tf-keras-datasets/imdb_word_index.json\n",
            "1641221/1641221 [==============================] - 1s 0us/step\n"
          ]
        },
        {
          "output_type": "execute_result",
          "data": {
            "text/plain": [
              "88584"
            ]
          },
          "metadata": {},
          "execution_count": 4
        }
      ]
    },
    {
      "cell_type": "code",
      "source": [
        "print(X_train[0])"
      ],
      "metadata": {
        "colab": {
          "base_uri": "https://localhost:8080/"
        },
        "id": "UOctSbFcEC-Z",
        "outputId": "9be7b614-6c8f-4b82-84fe-3e92447e470b"
      },
      "execution_count": 5,
      "outputs": [
        {
          "output_type": "stream",
          "name": "stdout",
          "text": [
            "[1, 14, 22, 16, 43, 530, 973, 1622, 1385, 65, 458, 4468, 66, 3941, 4, 173, 36, 256, 5, 25, 100, 43, 838, 112, 50, 670, 22665, 9, 35, 480, 284, 5, 150, 4, 172, 112, 167, 21631, 336, 385, 39, 4, 172, 4536, 1111, 17, 546, 38, 13, 447, 4, 192, 50, 16, 6, 147, 2025, 19, 14, 22, 4, 1920, 4613, 469, 4, 22, 71, 87, 12, 16, 43, 530, 38, 76, 15, 13, 1247, 4, 22, 17, 515, 17, 12, 16, 626, 18, 19193, 5, 62, 386, 12, 8, 316, 8, 106, 5, 4, 2223, 5244, 16, 480, 66, 3785, 33, 4, 130, 12, 16, 38, 619, 5, 25, 124, 51, 36, 135, 48, 25, 1415, 33, 6, 22, 12, 215, 28, 77, 52, 5, 14, 407, 16, 82, 10311, 8, 4, 107, 117, 5952, 15, 256, 4, 31050, 7, 3766, 5, 723, 36, 71, 43, 530, 476, 26, 400, 317, 46, 7, 4, 12118, 1029, 13, 104, 88, 4, 381, 15, 297, 98, 32, 2071, 56, 26, 141, 6, 194, 7486, 18, 4, 226, 22, 21, 134, 476, 26, 480, 5, 144, 30, 5535, 18, 51, 36, 28, 224, 92, 25, 104, 4, 226, 65, 16, 38, 1334, 88, 12, 16, 283, 5, 16, 4472, 113, 103, 32, 15, 16, 5345, 19, 178, 32]\n"
          ]
        }
      ]
    },
    {
      "cell_type": "code",
      "source": [
        "# 리뷰 최대/평균 길이\n",
        "max(len(s) for s in X_train), sum(len(s) for s in X_train) / len(X_train)"
      ],
      "metadata": {
        "colab": {
          "base_uri": "https://localhost:8080/"
        },
        "id": "YQ9axYndDZWQ",
        "outputId": "55801fd8-7730-4856-a270-ccdcc5621390"
      },
      "execution_count": 6,
      "outputs": [
        {
          "output_type": "execute_result",
          "data": {
            "text/plain": [
              "(2494, 238.71364)"
            ]
          },
          "metadata": {},
          "execution_count": 6
        }
      ]
    },
    {
      "cell_type": "markdown",
      "source": [
        "#### 1. LSTM으로 감성분석\n",
        "- 단어빈도수 기준 많이 사용되는 10,000 단어만 사용\n",
        "- 한 문장의 단어수: 200"
      ],
      "metadata": {
        "id": "CSAC1ic9E-kK"
      }
    },
    {
      "cell_type": "code",
      "source": [
        "from tensorflow.keras.models import Sequential, load_model\n",
        "from tensorflow.keras.layers import Embedding, LSTM, Dense\n",
        "from tensorflow.keras.callbacks import ModelCheckpoint, EarlyStopping\n",
        "from tensorflow.keras.preprocessing.sequence import pad_sequences"
      ],
      "metadata": {
        "id": "Fm_crf7GD9zb"
      },
      "execution_count": 7,
      "outputs": []
    },
    {
      "cell_type": "code",
      "source": [
        "num_words = 10000\n",
        "(X_train, y_train), (X_test, y_test) = imdb.load_data(num_words=num_words)"
      ],
      "metadata": {
        "id": "wbz7ub2PF-ww"
      },
      "execution_count": 8,
      "outputs": []
    },
    {
      "cell_type": "code",
      "source": [
        "max_len = 200\n",
        "X_train = pad_sequences(X_train, maxlen=max_len)\n",
        "X_test = pad_sequences(X_test, maxlen=max_len)\n",
        "X_train.shape, X_test.shape"
      ],
      "metadata": {
        "colab": {
          "base_uri": "https://localhost:8080/"
        },
        "id": "ufEi9sBQGaNU",
        "outputId": "9e3bb7e8-9a6e-4113-9269-f2ba6bcb33a8"
      },
      "execution_count": 9,
      "outputs": [
        {
          "output_type": "execute_result",
          "data": {
            "text/plain": [
              "((25000, 200), (25000, 200))"
            ]
          },
          "metadata": {},
          "execution_count": 9
        }
      ]
    },
    {
      "cell_type": "markdown",
      "source": [
        "- 모델\n",
        "  - Embedding vector size: 100\n",
        "  - LSTM node 수: 128"
      ],
      "metadata": {
        "id": "I3cgQKLmHBag"
      }
    },
    {
      "cell_type": "code",
      "source": [
        "model = Sequential([\n",
        "    Embedding(num_words, 100, input_length=max_len),\n",
        "    LSTM(128),\n",
        "    Dense(1, activation='sigmoid')\n",
        "])\n",
        "model.summary()"
      ],
      "metadata": {
        "colab": {
          "base_uri": "https://localhost:8080/"
        },
        "id": "yWcYyDDEGrQ8",
        "outputId": "b1dd1bf4-edb6-4d61-b047-65981c28e914"
      },
      "execution_count": 10,
      "outputs": [
        {
          "output_type": "stream",
          "name": "stdout",
          "text": [
            "Model: \"sequential\"\n",
            "_________________________________________________________________\n",
            " Layer (type)                Output Shape              Param #   \n",
            "=================================================================\n",
            " embedding (Embedding)       (None, 200, 100)          1000000   \n",
            "                                                                 \n",
            " lstm (LSTM)                 (None, 128)               117248    \n",
            "                                                                 \n",
            " dense (Dense)               (None, 1)                 129       \n",
            "                                                                 \n",
            "=================================================================\n",
            "Total params: 1117377 (4.26 MB)\n",
            "Trainable params: 1117377 (4.26 MB)\n",
            "Non-trainable params: 0 (0.00 Byte)\n",
            "_________________________________________________________________\n"
          ]
        }
      ]
    },
    {
      "cell_type": "code",
      "source": [
        "model.compile('adam', 'binary_crossentropy', ['accuracy'])\n",
        "\n",
        "model_path = 'best-imdb-lstm.h5'\n",
        "mc = ModelCheckpoint(model_path, save_best_only=True, verbose=1)\n",
        "es = EarlyStopping(patience=5)"
      ],
      "metadata": {
        "id": "UP1TYAXIHqZ4"
      },
      "execution_count": 11,
      "outputs": []
    },
    {
      "cell_type": "code",
      "source": [
        "hist = model.fit(\n",
        "    X_train, y_train, validation_split=0.2, epochs=30, batch_size=64, callbacks=[mc,es]\n",
        ")"
      ],
      "metadata": {
        "colab": {
          "base_uri": "https://localhost:8080/"
        },
        "id": "WvqTrnpWIQi1",
        "outputId": "c678ffc6-c8d8-424f-c960-fb0456896e22"
      },
      "execution_count": 12,
      "outputs": [
        {
          "output_type": "stream",
          "name": "stdout",
          "text": [
            "Epoch 1/30\n",
            "313/313 [==============================] - ETA: 0s - loss: 0.4496 - accuracy: 0.7824\n",
            "Epoch 1: val_loss improved from inf to 0.31884, saving model to best-imdb-lstm.h5\n",
            "313/313 [==============================] - 47s 127ms/step - loss: 0.4496 - accuracy: 0.7824 - val_loss: 0.3188 - val_accuracy: 0.8668\n",
            "Epoch 2/30\n",
            "  1/313 [..............................] - ETA: 4s - loss: 0.2399 - accuracy: 0.9062"
          ]
        },
        {
          "output_type": "stream",
          "name": "stderr",
          "text": [
            "/usr/local/lib/python3.10/dist-packages/keras/src/engine/training.py:3079: UserWarning: You are saving your model as an HDF5 file via `model.save()`. This file format is considered legacy. We recommend using instead the native Keras format, e.g. `model.save('my_model.keras')`.\n",
            "  saving_api.save_model(\n"
          ]
        },
        {
          "output_type": "stream",
          "name": "stdout",
          "text": [
            "313/313 [==============================] - ETA: 0s - loss: 0.2528 - accuracy: 0.9003\n",
            "Epoch 2: val_loss did not improve from 0.31884\n",
            "313/313 [==============================] - 17s 55ms/step - loss: 0.2528 - accuracy: 0.9003 - val_loss: 0.3422 - val_accuracy: 0.8658\n",
            "Epoch 3/30\n",
            "313/313 [==============================] - ETA: 0s - loss: 0.2034 - accuracy: 0.9234\n",
            "Epoch 3: val_loss did not improve from 0.31884\n",
            "313/313 [==============================] - 10s 32ms/step - loss: 0.2034 - accuracy: 0.9234 - val_loss: 0.3514 - val_accuracy: 0.8652\n",
            "Epoch 4/30\n",
            "313/313 [==============================] - ETA: 0s - loss: 0.1350 - accuracy: 0.9516\n",
            "Epoch 4: val_loss did not improve from 0.31884\n",
            "313/313 [==============================] - 8s 25ms/step - loss: 0.1350 - accuracy: 0.9516 - val_loss: 0.3922 - val_accuracy: 0.8560\n",
            "Epoch 5/30\n",
            "313/313 [==============================] - ETA: 0s - loss: 0.1111 - accuracy: 0.9596\n",
            "Epoch 5: val_loss did not improve from 0.31884\n",
            "313/313 [==============================] - 6s 19ms/step - loss: 0.1111 - accuracy: 0.9596 - val_loss: 0.5126 - val_accuracy: 0.8616\n",
            "Epoch 6/30\n",
            "313/313 [==============================] - ETA: 0s - loss: 0.1079 - accuracy: 0.9611\n",
            "Epoch 6: val_loss did not improve from 0.31884\n",
            "313/313 [==============================] - 6s 20ms/step - loss: 0.1079 - accuracy: 0.9611 - val_loss: 0.4849 - val_accuracy: 0.8532\n"
          ]
        }
      ]
    },
    {
      "cell_type": "code",
      "source": [
        "best_model = load_model(model_path)\n",
        "best_model.evaluate(X_test, y_test)"
      ],
      "metadata": {
        "colab": {
          "base_uri": "https://localhost:8080/"
        },
        "id": "aduauQrEM9t3",
        "outputId": "1840110d-0e6c-41c1-80e4-23c13ef33beb"
      },
      "execution_count": 13,
      "outputs": [
        {
          "output_type": "stream",
          "name": "stdout",
          "text": [
            "782/782 [==============================] - 4s 5ms/step - loss: 0.3187 - accuracy: 0.8663\n"
          ]
        },
        {
          "output_type": "execute_result",
          "data": {
            "text/plain": [
              "[0.3187468647956848, 0.8662800192832947]"
            ]
          },
          "metadata": {},
          "execution_count": 13
        }
      ]
    },
    {
      "cell_type": "markdown",
      "source": [
        "#### 2. Conv1D로 학습"
      ],
      "metadata": {
        "id": "yq3VthXzNHwX"
      }
    },
    {
      "cell_type": "code",
      "source": [
        "from tensorflow.keras.layers import Conv1D, MaxPooling1D, GlobalMaxPooling1D, Dropout"
      ],
      "metadata": {
        "id": "0sapZncTNE2f"
      },
      "execution_count": 15,
      "outputs": []
    },
    {
      "cell_type": "code",
      "source": [
        "model2 = Sequential([\n",
        "    Embedding(num_words, 100, input_length=max_len),\n",
        "    Dropout(0.5),\n",
        "    Conv1D(64, 7, activation='relu'),\n",
        "    MaxPooling1D(7),\n",
        "    Conv1D(64, 5, activation='relu'),\n",
        "    MaxPooling1D(5),\n",
        "    GlobalMaxPooling1D(),\n",
        "    Dense(1, 'sigmoid')\n",
        "])"
      ],
      "metadata": {
        "id": "QZplGbcwNVMv"
      },
      "execution_count": 16,
      "outputs": []
    },
    {
      "cell_type": "code",
      "source": [
        "model2.compile('adam', 'binary_crossentropy', ['accuracy'])\n",
        "\n",
        "model_path2 = 'best-imdb-lstm.h5'\n",
        "mc2 = ModelCheckpoint(model_path2, save_best_only=True, verbose=1)\n",
        "es2 = EarlyStopping(patience=5)"
      ],
      "metadata": {
        "id": "J6-0LvebOanv"
      },
      "execution_count": 17,
      "outputs": []
    },
    {
      "cell_type": "code",
      "source": [
        "hist2 = model2.fit(\n",
        "    X_train, y_train, validation_split=0.2, epochs=30, batch_size=64, callbacks=[mc2,es2]\n",
        ")"
      ],
      "metadata": {
        "colab": {
          "base_uri": "https://localhost:8080/"
        },
        "id": "iMrLt-RVOmGp",
        "outputId": "06a814e4-352f-4271-ebc2-e0902b87dfa4"
      },
      "execution_count": 18,
      "outputs": [
        {
          "output_type": "stream",
          "name": "stdout",
          "text": [
            "Epoch 1/30\n",
            "313/313 [==============================] - ETA: 0s - loss: 0.5279 - accuracy: 0.7049\n",
            "Epoch 1: val_loss improved from inf to 0.36467, saving model to best-imdb-lstm.h5\n",
            "313/313 [==============================] - 32s 77ms/step - loss: 0.5279 - accuracy: 0.7049 - val_loss: 0.3647 - val_accuracy: 0.8402\n",
            "Epoch 2/30\n",
            "  3/313 [..............................] - ETA: 16s - loss: 0.3114 - accuracy: 0.8906"
          ]
        },
        {
          "output_type": "stream",
          "name": "stderr",
          "text": [
            "/usr/local/lib/python3.10/dist-packages/keras/src/engine/training.py:3079: UserWarning: You are saving your model as an HDF5 file via `model.save()`. This file format is considered legacy. We recommend using instead the native Keras format, e.g. `model.save('my_model.keras')`.\n",
            "  saving_api.save_model(\n"
          ]
        },
        {
          "output_type": "stream",
          "name": "stdout",
          "text": [
            "313/313 [==============================] - ETA: 0s - loss: 0.2970 - accuracy: 0.8765\n",
            "Epoch 2: val_loss improved from 0.36467 to 0.35759, saving model to best-imdb-lstm.h5\n",
            "313/313 [==============================] - 10s 33ms/step - loss: 0.2970 - accuracy: 0.8765 - val_loss: 0.3576 - val_accuracy: 0.8456\n",
            "Epoch 3/30\n",
            "313/313 [==============================] - ETA: 0s - loss: 0.2144 - accuracy: 0.9157\n",
            "Epoch 3: val_loss did not improve from 0.35759\n",
            "313/313 [==============================] - 6s 19ms/step - loss: 0.2144 - accuracy: 0.9157 - val_loss: 0.3788 - val_accuracy: 0.8494\n",
            "Epoch 4/30\n",
            "313/313 [==============================] - ETA: 0s - loss: 0.1561 - accuracy: 0.9398\n",
            "Epoch 4: val_loss did not improve from 0.35759\n",
            "313/313 [==============================] - 5s 15ms/step - loss: 0.1561 - accuracy: 0.9398 - val_loss: 0.4300 - val_accuracy: 0.8446\n",
            "Epoch 5/30\n",
            "313/313 [==============================] - ETA: 0s - loss: 0.1104 - accuracy: 0.9590\n",
            "Epoch 5: val_loss did not improve from 0.35759\n",
            "313/313 [==============================] - 3s 11ms/step - loss: 0.1104 - accuracy: 0.9590 - val_loss: 0.5248 - val_accuracy: 0.8340\n",
            "Epoch 6/30\n",
            "313/313 [==============================] - ETA: 0s - loss: 0.0782 - accuracy: 0.9713\n",
            "Epoch 6: val_loss did not improve from 0.35759\n",
            "313/313 [==============================] - 3s 9ms/step - loss: 0.0782 - accuracy: 0.9713 - val_loss: 0.5959 - val_accuracy: 0.8426\n",
            "Epoch 7/30\n",
            "313/313 [==============================] - ETA: 0s - loss: 0.0568 - accuracy: 0.9791\n",
            "Epoch 7: val_loss did not improve from 0.35759\n",
            "313/313 [==============================] - 6s 18ms/step - loss: 0.0568 - accuracy: 0.9791 - val_loss: 0.7465 - val_accuracy: 0.8338\n"
          ]
        }
      ]
    },
    {
      "cell_type": "code",
      "source": [],
      "metadata": {
        "id": "rcXZkmRaOroI"
      },
      "execution_count": null,
      "outputs": []
    }
  ]
}